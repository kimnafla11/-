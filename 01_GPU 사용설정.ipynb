{
 "cells": [
  {
   "cell_type": "code",
   "execution_count": 1,
   "id": "632ca843",
   "metadata": {},
   "outputs": [
    {
     "data": {
      "text/plain": [
       "[name: \"/device:CPU:0\"\n",
       " device_type: \"CPU\"\n",
       " memory_limit: 268435456\n",
       " locality {\n",
       " }\n",
       " incarnation: 1163312058656169805\n",
       " xla_global_id: -1,\n",
       " name: \"/device:GPU:0\"\n",
       " device_type: \"GPU\"\n",
       " memory_limit: 1406002382\n",
       " locality {\n",
       "   bus_id: 1\n",
       "   links {\n",
       "   }\n",
       " }\n",
       " incarnation: 17256828489329475578\n",
       " physical_device_desc: \"device: 0, name: NVIDIA GeForce MX150, pci bus id: 0000:02:00.0, compute capability: 6.1\"\n",
       " xla_global_id: 416903419]"
      ]
     },
     "execution_count": 1,
     "metadata": {},
     "output_type": "execute_result"
    }
   ],
   "source": [
    "from tensorflow.python.client import device_lib\n",
    "\n",
    "device_lib.list_local_devices()"
   ]
  },
  {
   "cell_type": "markdown",
   "id": "f4a4b8f5",
   "metadata": {},
   "source": [
    "### 필요한 소프트웨어\n",
    "- cuda toolkit : 개발자가 만든 소프트웨어가 GPU를 이용할 수 있도록 중간다리 역할을 해주는 소프트웨어.\n",
    "- 개발자가 만든 코드는 CUDA로 명령을 전달하고 CPU가 GPU를 통해 작업을 해준다,\n",
    "- cuDNN : nvidia에서 만든 딥러닝 알고리즘. cnn 등 이미지 인식 작업을 수행할 때 사용"
   ]
  },
  {
   "cell_type": "markdown",
   "id": "d48d7d0f",
   "metadata": {},
   "source": [
    "- 위의 명령어를 이용해 CUDA 버전을 확인한다.\n",
    "- 텐서플로 2.10.0 기준\n",
    "- CUDA를 11.2 버전을 사용해야 한다.\n"
   ]
  },
  {
   "cell_type": "markdown",
   "id": "1bc9a137",
   "metadata": {},
   "source": [
    "### CUDA 설치\n",
    "- https://developer.nvidia.com/cuda-toolkit-archive\n",
    "- 11.2.0 버전을 내려받는다.\n",
    "- 설치시 바꿀 건 없고 '다음'만 잘 누르기"
   ]
  },
  {
   "cell_type": "markdown",
   "id": "09d99946",
   "metadata": {},
   "source": [
    "### cuDNN\n",
    "- https://developer.nvidia.com/rdp/cudnn-download\n",
    "- cuda버전에 맞는 cuDNN을 내려받는다\n",
    "- nvidia 계정 필요\n",
    "- C:\\Program Files\\NVIDIA GPU Computing Toolkit\\CUDA\\v11.2\n",
    "- cuDNN 압축 푼 곳에 bin, include, lib폴더를 cuda 설치된 쪽으로 복사 or 이동"
   ]
  },
  {
   "cell_type": "markdown",
   "id": "555e0fb0",
   "metadata": {},
   "source": [
    "- 한국 복지 패널\n",
    "- 전국 8000여 가구를 대상으로 어떻게 살고 있는지를 조사한 데이터\n",
    "- https://www.koweps.re.kr:442/data/data/list.do\n",
    "\n",
    "- 공공데이터 포털\n",
    "- 정부에서 운영하는 데이터 공개 사이트\n",
    "- https://www.data.go.kr/\n",
    "\n",
    "- 각 지자체별 공공데이터 사이드들\n",
    "\n",
    "- ai hub\n",
    "- https://www.aihub.or.kr/\n",
    "\n",
    "----------------------------------------------------------------------------------------------------\n",
    "\n",
    "- 미국\n",
    "- https://data.caltech.edu/\t\n",
    "- https://archive.ics.uci.edu/ml/datasets.php\n",
    "\n",
    "- https://www.kaggle.com\n",
    "\n",
    "### 시각화 참고\n",
    "- https://www.kaggle.com/code/joshuajhchoi/101-data-visualization-tips-for-titanic-beginners"
   ]
  },
  {
   "cell_type": "code",
   "execution_count": null,
   "id": "1ce10b9a",
   "metadata": {},
   "outputs": [],
   "source": []
  }
 ],
 "metadata": {
  "kernelspec": {
   "display_name": "Python 3 (ipykernel)",
   "language": "python",
   "name": "python3"
  },
  "language_info": {
   "codemirror_mode": {
    "name": "ipython",
    "version": 3
   },
   "file_extension": ".py",
   "mimetype": "text/x-python",
   "name": "python",
   "nbconvert_exporter": "python",
   "pygments_lexer": "ipython3",
   "version": "3.9.13"
  }
 },
 "nbformat": 4,
 "nbformat_minor": 5
}
